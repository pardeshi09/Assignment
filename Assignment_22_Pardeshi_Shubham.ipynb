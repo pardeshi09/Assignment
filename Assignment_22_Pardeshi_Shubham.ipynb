{
 "cells": [
  {
   "cell_type": "markdown",
   "id": "b9197931",
   "metadata": {},
   "source": [
    "### 1. What is the result of the code, and explain?\n"
   ]
  },
  {
   "cell_type": "raw",
   "id": "3730873f",
   "metadata": {},
   "source": [
    "X = 'iNeuron'\n",
    "def func():\n",
    "    print(X)\n",
    "func()\n",
    "\n",
    "solution : 'iNeuron'\n",
    "Explamation:\n",
    "The global variables are accessible in side the functions in python. But we can not access function variable out side \n",
    "function. \n",
    "Since x is golbal variable we are able to print it in side the function\n"
   ]
  },
  {
   "cell_type": "code",
   "execution_count": 1,
   "id": "c0d05180",
   "metadata": {},
   "outputs": [
    {
     "name": "stdout",
     "output_type": "stream",
     "text": [
      "iNeuron\n"
     ]
    }
   ],
   "source": [
    "X = 'iNeuron'\n",
    "def func():\n",
    "    print(X)\n",
    "func()"
   ]
  },
  {
   "cell_type": "markdown",
   "id": "2da3fa1d",
   "metadata": {},
   "source": [
    "### 2. What is the result of the code, and explain?\n"
   ]
  },
  {
   "cell_type": "raw",
   "id": "f9b4a0f0",
   "metadata": {},
   "source": [
    "X = 'iNeuron'\n",
    "def func():\n",
    "    X = 'NI!'\n",
    "\n",
    "func()\n",
    "print(X)\n",
    "\n",
    "\n",
    "solution: iNeuron\n",
    "Explantion:\n",
    "The global variables are access in side the functions in python. But we can not access function variable out side \n",
    "function. \n",
    "Since x is golbal variable we are able to print it out side of the function\n"
   ]
  },
  {
   "cell_type": "code",
   "execution_count": 2,
   "id": "c98ac98b",
   "metadata": {},
   "outputs": [
    {
     "name": "stdout",
     "output_type": "stream",
     "text": [
      "iNeuron\n"
     ]
    }
   ],
   "source": [
    "X = 'iNeuron'\n",
    "def func():\n",
    "    X = 'NI!'\n",
    "\n",
    "func()\n",
    "print(X)"
   ]
  },
  {
   "cell_type": "markdown",
   "id": "43536a38",
   "metadata": {},
   "source": [
    "### 3. What does this code print, and why?\n"
   ]
  },
  {
   "cell_type": "raw",
   "id": "8627e3e4",
   "metadata": {},
   "source": [
    "X = 'iNeuron'\n",
    "def func():\n",
    "    X = 'NI!'\n",
    "    print(X)\n",
    "\n",
    "func()\n",
    "print(X)\n",
    "\n",
    "Solution: NI!\n",
    "          iNeuron\n",
    "          \n",
    "Since,The global variables are access in side the functions in python. But we can not access function variable out side \n",
    "function. X is updated with 'NI' which is local to function and its immutable. its name space is with in the function"
   ]
  },
  {
   "cell_type": "code",
   "execution_count": 3,
   "id": "a0a8d11b",
   "metadata": {},
   "outputs": [
    {
     "name": "stdout",
     "output_type": "stream",
     "text": [
      "NI!\n",
      "iNeuron\n"
     ]
    }
   ],
   "source": [
    "X = 'iNeuron'\n",
    "def func():\n",
    "    X = 'NI!'\n",
    "    print(X)\n",
    "\n",
    "func()\n",
    "print(X)"
   ]
  },
  {
   "cell_type": "markdown",
   "id": "3b41922c",
   "metadata": {},
   "source": [
    "### 4. What output does this code produce? Why?\n"
   ]
  },
  {
   "cell_type": "raw",
   "id": "e9f38c42",
   "metadata": {},
   "source": [
    "X = 'iNeuron'\n",
    "def func():\n",
    "    global X\n",
    "    X = 'NI!'\n",
    "    print(X)\n",
    "\n",
    "func()\n",
    "print(X)\n",
    "\n",
    "Solution:NI!\n",
    "         NI!\n",
    "         \n",
    "Since the X in side function is made Global, it will be accesible out side of the function too. now X will have new value."
   ]
  },
  {
   "cell_type": "code",
   "execution_count": 4,
   "id": "1be41f3a",
   "metadata": {},
   "outputs": [
    {
     "name": "stdout",
     "output_type": "stream",
     "text": [
      "NI!\n",
      "NI!\n"
     ]
    }
   ],
   "source": [
    "X = 'iNeuron'\n",
    "def func():\n",
    "    global X\n",
    "    X = 'NI!'\n",
    "    print(X)\n",
    "\n",
    "func()\n",
    "print(X)"
   ]
  },
  {
   "cell_type": "markdown",
   "id": "8a32a418",
   "metadata": {},
   "source": [
    "### 5. What about this code—what’s the output, and why?\n"
   ]
  },
  {
   "cell_type": "raw",
   "id": "bb6164c9",
   "metadata": {},
   "source": [
    "X = 'iNeuron'\n",
    "def func():\n",
    "    X = 'NI'\n",
    "def nested():\n",
    "    print(X)\n",
    "\n",
    "nested()\n",
    "func()\n",
    "X\n",
    "\n",
    "Soltuion:\n",
    "the nested() function will print 'iNeuron', Then func() does not display anything, and x ='NI' is not accessible out \n",
    "side the function.\n",
    "The Solution : 'iNeuron'"
   ]
  },
  {
   "cell_type": "code",
   "execution_count": 5,
   "id": "5d4d515c",
   "metadata": {},
   "outputs": [
    {
     "name": "stdout",
     "output_type": "stream",
     "text": [
      "iNeuron\n"
     ]
    },
    {
     "data": {
      "text/plain": [
       "'iNeuron'"
      ]
     },
     "execution_count": 5,
     "metadata": {},
     "output_type": "execute_result"
    }
   ],
   "source": [
    "X = 'iNeuron'\n",
    "def func():\n",
    "    X = 'NI'\n",
    "def nested():\n",
    "    print(X)\n",
    "\n",
    "nested()\n",
    "func()\n",
    "X"
   ]
  },
  {
   "cell_type": "markdown",
   "id": "642e76f8",
   "metadata": {},
   "source": [
    "### 6. How about this code: what is its output in Python 3, and explain?\n"
   ]
  },
  {
   "cell_type": "raw",
   "id": "c448ee17",
   "metadata": {},
   "source": [
    "X = 'kkl'\n",
    "def func():\n",
    "    X = 'NI'\n",
    "    def nested():\n",
    "        nonlocal X\n",
    "        X = 'spam'\n",
    "    nested()\n",
    "    print(X)\n",
    "\n",
    "func()\n",
    "\n",
    "\n",
    "Soltion:spam\n",
    "\n",
    "Since, Nonlocal variables are used in nested functions whose local scope is not defined. \n",
    "This means that the variable can be neither in the local nor the global scope. it print the updated value from nested \n",
    "function\n"
   ]
  },
  {
   "cell_type": "code",
   "execution_count": null,
   "id": "aeea13f3",
   "metadata": {},
   "outputs": [],
   "source": [
    "X = 'kkl'\n",
    "def func():\n",
    "    X = 'NI'\n",
    "    def nested():\n",
    "        nonlocal X\n",
    "        X = 'spam'\n",
    "    nested()\n",
    "    print(X)\n",
    "\n",
    "func()"
   ]
  }
 ],
 "metadata": {
  "kernelspec": {
   "display_name": "Python 3 (ipykernel)",
   "language": "python",
   "name": "python3"
  },
  "language_info": {
   "codemirror_mode": {
    "name": "ipython",
    "version": 3
   },
   "file_extension": ".py",
   "mimetype": "text/x-python",
   "name": "python",
   "nbconvert_exporter": "python",
   "pygments_lexer": "ipython3",
   "version": "3.9.7"
  }
 },
 "nbformat": 4,
 "nbformat_minor": 5
}
