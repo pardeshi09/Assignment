{
 "cells": [
  {
   "cell_type": "markdown",
   "id": "3b026e98",
   "metadata": {},
   "source": [
    "### 1. What is the result of the code, and explain?\n"
   ]
  },
  {
   "cell_type": "markdown",
   "id": "145ace28",
   "metadata": {},
   "source": [
    "X = 'iNeuron'\n",
    "def func():\n",
    "    print(X)\n",
    "func()\n",
    "\n",
    "solution : 'iNeuron'\n",
    "Explamation:\n",
    "The global variables are accessible in side the functions in python. But we can not access function variable out side \n",
    "function. \n",
    "Since x is golbal variable we are able to print it in side the function\n"
   ]
  },
  {
   "cell_type": "code",
   "execution_count": 1,
   "id": "30d9549f",
   "metadata": {},
   "outputs": [
    {
     "name": "stdout",
     "output_type": "stream",
     "text": [
      "iNeuron\n"
     ]
    }
   ],
   "source": [
    "X = 'iNeuron'\n",
    "def func():\n",
    "    print(X)\n",
    "func()"
   ]
  },
  {
   "cell_type": "markdown",
   "id": "b2ef1556",
   "metadata": {},
   "source": [
    "### 2. What is the result of the code, and explain?\n"
   ]
  },
  {
   "cell_type": "raw",
   "id": "2708bc8e",
   "metadata": {},
   "source": [
    "X = 'iNeuron'\n",
    "def func():\n",
    "    X = 'NI!'\n",
    "\n",
    "func()\n",
    "print(X)\n",
    "\n",
    "\n",
    "solution: iNeuron\n",
    "Explantion:\n",
    "The global variables are access in side the functions in python. But we can not access function variable out side \n",
    "function. \n",
    "Since x is golbal variable we are able to print it out side of the function\n"
   ]
  },
  {
   "cell_type": "code",
   "execution_count": 2,
   "id": "a10130fe",
   "metadata": {},
   "outputs": [
    {
     "name": "stdout",
     "output_type": "stream",
     "text": [
      "iNeuron\n"
     ]
    }
   ],
   "source": [
    "X = 'iNeuron'\n",
    "def func():\n",
    "    X = 'NI!'\n",
    "\n",
    "func()\n",
    "print(X)"
   ]
  },
  {
   "cell_type": "markdown",
   "id": "e23bb0e1",
   "metadata": {},
   "source": [
    "### 3. What does this code print, and why?\n"
   ]
  },
  {
   "cell_type": "raw",
   "id": "c6e70f42",
   "metadata": {},
   "source": [
    "X = 'iNeuron'\n",
    "def func():\n",
    "    X = 'NI!'\n",
    "    print(X)\n",
    "\n",
    "func()\n",
    "print(X)\n",
    "\n",
    "Solution: NI!\n",
    "          iNeuron\n",
    "          \n",
    "Since,The global variables are access in side the functions in python. But we can not access function variable out side \n",
    "function. X is updated with 'NI' which is local to function and its immutable. its name space is with in the function"
   ]
  },
  {
   "cell_type": "code",
   "execution_count": 3,
   "id": "0bf04c95",
   "metadata": {},
   "outputs": [
    {
     "name": "stdout",
     "output_type": "stream",
     "text": [
      "NI!\n",
      "iNeuron\n"
     ]
    }
   ],
   "source": [
    "X = 'iNeuron'\n",
    "def func():\n",
    "    X = 'NI!'\n",
    "    print(X)\n",
    "\n",
    "func()\n",
    "print(X)"
   ]
  },
  {
   "cell_type": "markdown",
   "id": "5e971fa7",
   "metadata": {},
   "source": [
    "### 4. What output does this code produce? Why?\n"
   ]
  },
  {
   "cell_type": "raw",
   "id": "838628c7",
   "metadata": {},
   "source": [
    "X = 'iNeuron'\n",
    "def func():\n",
    "    global X\n",
    "    X = 'NI!'\n",
    "    print(X)\n",
    "\n",
    "func()\n",
    "print(X)\n",
    "\n",
    "Solution:NI!\n",
    "         NI!\n",
    "         \n",
    "Since the X in side function is made Global, it will be accesible out side of the function too. now X will have new value."
   ]
  },
  {
   "cell_type": "code",
   "execution_count": 4,
   "id": "e813c626",
   "metadata": {},
   "outputs": [
    {
     "name": "stdout",
     "output_type": "stream",
     "text": [
      "NI!\n",
      "NI!\n"
     ]
    }
   ],
   "source": [
    "X = 'iNeuron'\n",
    "def func():\n",
    "    global X\n",
    "    X = 'NI!'\n",
    "    print(X)\n",
    "\n",
    "func()\n",
    "print(X)"
   ]
  },
  {
   "cell_type": "markdown",
   "id": "87a09c58",
   "metadata": {},
   "source": [
    "### 5. What about this code—what’s the output, and why?\n"
   ]
  },
  {
   "cell_type": "raw",
   "id": "017df4c8",
   "metadata": {},
   "source": [
    "X = 'iNeuron'\n",
    "def func():\n",
    "    X = 'NI'\n",
    "def nested():\n",
    "    print(X)\n",
    "\n",
    "nested()\n",
    "func()\n",
    "X\n",
    "\n",
    "Soltuion:\n",
    "the nested() function will print 'iNeuron', Then func() does not display anything, and x ='NI' is not accessible out \n",
    "side the function.\n",
    "The Solution : 'iNeuron'"
   ]
  },
  {
   "cell_type": "code",
   "execution_count": 5,
   "id": "678ed38a",
   "metadata": {},
   "outputs": [
    {
     "name": "stdout",
     "output_type": "stream",
     "text": [
      "iNeuron\n"
     ]
    },
    {
     "data": {
      "text/plain": [
       "'iNeuron'"
      ]
     },
     "execution_count": 5,
     "metadata": {},
     "output_type": "execute_result"
    }
   ],
   "source": [
    "X = 'iNeuron'\n",
    "def func():\n",
    "    X = 'NI'\n",
    "def nested():\n",
    "    print(X)\n",
    "\n",
    "nested()\n",
    "func()\n",
    "X"
   ]
  },
  {
   "cell_type": "markdown",
   "id": "61caea62",
   "metadata": {},
   "source": [
    "### 6. How about this code: what is its output in Python 3, and explain?\n"
   ]
  },
  {
   "cell_type": "raw",
   "id": "e44c591a",
   "metadata": {},
   "source": [
    "X = 'kkl'\n",
    "def func():\n",
    "    X = 'NI'\n",
    "    def nested():\n",
    "        nonlocal X\n",
    "        X = 'spam'\n",
    "    nested()\n",
    "    print(X)\n",
    "\n",
    "func()\n",
    "\n",
    "\n",
    "Soltion:spam\n",
    "\n",
    "Since, Nonlocal variables are used in nested functions whose local scope is not defined. \n",
    "This means that the variable can be neither in the local nor the global scope. it print the updated value from nested \n",
    "function\n"
   ]
  },
  {
   "cell_type": "code",
   "execution_count": null,
   "id": "3c2c8c9d",
   "metadata": {},
   "outputs": [],
   "source": [
    "X = 'kkl'\n",
    "def func():\n",
    "    X = 'NI'\n",
    "    def nested():\n",
    "        nonlocal X\n",
    "        X = 'spam'\n",
    "    nested()\n",
    "    print(X)\n",
    "\n",
    "func()"
   ]
  }
 ],
 "metadata": {
  "kernelspec": {
   "display_name": "Python 3 (ipykernel)",
   "language": "python",
   "name": "python3"
  },
  "language_info": {
   "codemirror_mode": {
    "name": "ipython",
    "version": 3
   },
   "file_extension": ".py",
   "mimetype": "text/x-python",
   "name": "python",
   "nbconvert_exporter": "python",
   "pygments_lexer": "ipython3",
   "version": "3.9.7"
  }
 },
 "nbformat": 4,
 "nbformat_minor": 5
}
