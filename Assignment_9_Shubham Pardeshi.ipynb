{
 "cells": [
  {
   "cell_type": "markdown",
   "id": "a63f34c2",
   "metadata": {},
   "source": [
    "### 1. To what does a relative path refer?"
   ]
  },
  {
   "cell_type": "markdown",
   "id": "d27351e0",
   "metadata": {},
   "source": [
    "The relative path is the path of a file with respect to your current working directory (PWD)."
   ]
  },
  {
   "cell_type": "markdown",
   "id": "2bba8ae7",
   "metadata": {},
   "source": [
    "### 2. What does an absolute path start with your operating system?\n"
   ]
  },
  {
   "cell_type": "markdown",
   "id": "a82bb3bf",
   "metadata": {},
   "source": [
    "An absolute path contains the full set of directories from the root of the file system up to your target file or directory. An absolute path start with the root folder, such as / or C:."
   ]
  },
  {
   "cell_type": "markdown",
   "id": "3f462065",
   "metadata": {},
   "source": [
    "### 3. What do the functions os.getcwd() and os.chdir() do?\n"
   ]
  },
  {
   "cell_type": "markdown",
   "id": "2f21a70a",
   "metadata": {},
   "source": [
    "getcwd stands for \"get current working directory\". os.getcwd() returns the absolute path of the working directory where Python is currently running as a string str . chdir stands for \"change directory\". os.chdir() method in Python used to change the current working directory to specified path. It takes only a single argument as new directory path."
   ]
  },
  {
   "cell_type": "markdown",
   "id": "3052f5e7",
   "metadata": {},
   "source": [
    "### 4. What are the . and .. folders?\n"
   ]
  },
  {
   "cell_type": "markdown",
   "id": "ef6d6145",
   "metadata": {},
   "source": [
    "The . is the current directory, while .. signifies the parent directory."
   ]
  },
  {
   "cell_type": "markdown",
   "id": "d45941e0",
   "metadata": {},
   "source": [
    "### 5. In C:\\bacon\\eggs\\spam.txt, which part is the dir name, and which part is the base name?\n"
   ]
  },
  {
   "cell_type": "markdown",
   "id": "36e85a31",
   "metadata": {},
   "source": [
    "The basename is the final rightmost segment of the file path . In the above path base name is spam.txt. os.path.basename() can be used to extract base name from the path. dir name is th folder name in which file exists. In the above path dir name is C:\\bacon\\eggs . os.path.dirname() can be used to extract dir name form path."
   ]
  },
  {
   "cell_type": "markdown",
   "id": "4d953c43",
   "metadata": {},
   "source": [
    "### 6. What are the three “mode” arguments that can be passed to the open() function?"
   ]
  },
  {
   "cell_type": "markdown",
   "id": "9fa83200",
   "metadata": {},
   "source": [
    "mode arguments that can be passed to open () function are: 'r' Open a file for reading. (default) 'w' Open a file for writing. Creates a new file if it does not exist or truncates the file if it exists. 'a' Open for appending at the end of the file without truncating it. Creates a new file if it does not exist. '+' Open a file for updating (reading and writing)"
   ]
  },
  {
   "cell_type": "markdown",
   "id": "668577d9",
   "metadata": {},
   "source": [
    "### 7. What happens if an existing file is opened in write mode?\n"
   ]
  },
  {
   "cell_type": "markdown",
   "id": "57bbe6db",
   "metadata": {},
   "source": [
    "when a existing file is opened in write mode, contens which were previously present will be overwritten by new content passed."
   ]
  },
  {
   "cell_type": "markdown",
   "id": "7d163fa2",
   "metadata": {},
   "source": [
    "### 8. How do you tell the difference between read() and readlines()?\n"
   ]
  },
  {
   "cell_type": "code",
   "execution_count": null,
   "id": "c777b7cd",
   "metadata": {},
   "outputs": [],
   "source": [
    "read() reads the entire contents of the file into a string. readline() just reads file till the next line."
   ]
  },
  {
   "cell_type": "markdown",
   "id": "43a429db",
   "metadata": {},
   "source": [
    "### 9. What data structure does a shelf value resemble?\n"
   ]
  },
  {
   "cell_type": "markdown",
   "id": "e009a68b",
   "metadata": {},
   "source": [
    "A shelf value resembles a dictionary value; it has keys and values, along with keys() and values() methods that work similarly to the dictionary methods of the same names."
   ]
  }
 ],
 "metadata": {
  "kernelspec": {
   "display_name": "Python 3 (ipykernel)",
   "language": "python",
   "name": "python3"
  },
  "language_info": {
   "codemirror_mode": {
    "name": "ipython",
    "version": 3
   },
   "file_extension": ".py",
   "mimetype": "text/x-python",
   "name": "python",
   "nbconvert_exporter": "python",
   "pygments_lexer": "ipython3",
   "version": "3.9.7"
  }
 },
 "nbformat": 4,
 "nbformat_minor": 5
}
