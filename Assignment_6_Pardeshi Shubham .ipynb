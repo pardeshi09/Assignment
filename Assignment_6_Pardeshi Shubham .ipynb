{
 "cells": [
  {
   "cell_type": "markdown",
   "id": "7ba819db",
   "metadata": {},
   "source": [
    "### 1. What are escape characters, and how do you use them?"
   ]
  },
  {
   "cell_type": "markdown",
   "id": "a9d6bafb",
   "metadata": {},
   "source": [
    "In Python strings, the backslash \"\\\" is a special character, also called the \"escape\" character. It is used in representing certain whitespace characters: \"\\t\" is a tab, \"\\n\" is a newline, and \"\\r\" is a carriage return \n",
    "\n",
    "prefixing a special character with \"\\\" turns it into an ordinary character. This is called \"escaping\". For example, \"\\'\" is the single quote character. 'It\\'s Sunday' therefore is a valid string and equivalent to \"It's Sunday\". Likewise, '\"' can be escaped: \"\\\"hello\\\"\" is a string begins and ends with the literal double quote character. Finally, \"\\\" can be used to escape itself: \"\\\\\" is the literal backslash character."
   ]
  },
  {
   "cell_type": "code",
   "execution_count": 1,
   "id": "60a0464a",
   "metadata": {},
   "outputs": [
    {
     "name": "stdout",
     "output_type": "stream",
     "text": [
      "it's Sunday\n",
      "it's Sunday\n"
     ]
    }
   ],
   "source": [
    "print(\"it's Sunday\") #Following sentence can be reperesented using escape charecter as\n",
    "print('it\\'s Sunday')"
   ]
  },
  {
   "cell_type": "markdown",
   "id": "6796e099",
   "metadata": {},
   "source": [
    "### 2. What do the escape characters n and t stand for?"
   ]
  },
  {
   "cell_type": "markdown",
   "id": "37c4587f",
   "metadata": {},
   "source": [
    "- \"\\t\" is a tab\n",
    "- \"\\n\" is a newline"
   ]
  },
  {
   "cell_type": "markdown",
   "id": "6c05ed2e",
   "metadata": {},
   "source": [
    "### 3. What is the way to include backslash characters in a string?"
   ]
  },
  {
   "cell_type": "markdown",
   "id": "3fd249d5",
   "metadata": {},
   "source": [
    " print('its a back slash \\\\ in a sentence')"
   ]
  },
  {
   "cell_type": "code",
   "execution_count": 2,
   "id": "218581b8",
   "metadata": {},
   "outputs": [
    {
     "name": "stdout",
     "output_type": "stream",
     "text": [
      "its a back slash \\ in a sentence\n"
     ]
    }
   ],
   "source": [
    " print('its a back slash \\\\ in a sentence')"
   ]
  },
  {
   "cell_type": "markdown",
   "id": "052d358f",
   "metadata": {},
   "source": [
    "### 4. The string \"Howl's Moving Castle\" is a correct value. Why isn't the single quote character in the word Howl's not escaped a problem?"
   ]
  },
  {
   "cell_type": "markdown",
   "id": "86544b2f",
   "metadata": {},
   "source": [
    "The single quote in Howl's is fine because you've used double quotes to mark the beginning and end of the string. \n",
    "like wise we can use double quotes in with single quotes."
   ]
  },
  {
   "cell_type": "code",
   "execution_count": 3,
   "id": "24397c64",
   "metadata": {},
   "outputs": [
    {
     "name": "stdout",
     "output_type": "stream",
     "text": [
      "HowI's Moving Castle\n"
     ]
    }
   ],
   "source": [
    "print(\"HowI's Moving Castle\")"
   ]
  },
  {
   "cell_type": "code",
   "execution_count": 4,
   "id": "22f25c6d",
   "metadata": {},
   "outputs": [
    {
     "name": "stdout",
     "output_type": "stream",
     "text": [
      "Its a \"Nice\" Sunday\n"
     ]
    }
   ],
   "source": [
    "#we can use double quote in side single quote\n",
    "print('Its a \"Nice\" Sunday')"
   ]
  },
  {
   "cell_type": "markdown",
   "id": "eaaddebd",
   "metadata": {},
   "source": [
    "### 5. How do you write a string of newlines if you don't want to use the n character?\n"
   ]
  },
  {
   "cell_type": "markdown",
   "id": "47431ade",
   "metadata": {},
   "source": [
    "- we can use the parameter end ='\\n' in print function"
   ]
  },
  {
   "cell_type": "code",
   "execution_count": 5,
   "id": "7840ccbd",
   "metadata": {},
   "outputs": [
    {
     "name": "stdout",
     "output_type": "stream",
     "text": [
      "printing something in multiple lines\n",
      "newline\n"
     ]
    }
   ],
   "source": [
    "print(\"printing something in multiple lines\",end = '\\n')\n",
    "print(\"newline\")"
   ]
  },
  {
   "cell_type": "markdown",
   "id": "bb54e7f7",
   "metadata": {},
   "source": [
    "### 6. What are the values of the given expressions?\n",
    "'Hello, world!'[1] \n",
    "\n",
    "'Hello, world!'[0:5]\n",
    "\n",
    "'Hello, world!'[:5] \n",
    "\n",
    "'Hello, world!'[3:] "
   ]
  },
  {
   "cell_type": "code",
   "execution_count": 6,
   "id": "198a6470",
   "metadata": {},
   "outputs": [
    {
     "data": {
      "text/plain": [
       "'e'"
      ]
     },
     "execution_count": 6,
     "metadata": {},
     "output_type": "execute_result"
    }
   ],
   "source": [
    "'Hello, world!'[1] "
   ]
  },
  {
   "cell_type": "code",
   "execution_count": 7,
   "id": "5175a93e",
   "metadata": {},
   "outputs": [
    {
     "data": {
      "text/plain": [
       "'Hello'"
      ]
     },
     "execution_count": 7,
     "metadata": {},
     "output_type": "execute_result"
    }
   ],
   "source": [
    "'Hello, world!'[0:5]"
   ]
  },
  {
   "cell_type": "code",
   "execution_count": 8,
   "id": "e4dfb7bb",
   "metadata": {},
   "outputs": [
    {
     "data": {
      "text/plain": [
       "'Hello'"
      ]
     },
     "execution_count": 8,
     "metadata": {},
     "output_type": "execute_result"
    }
   ],
   "source": [
    "'Hello, world!'[:5]"
   ]
  },
  {
   "cell_type": "code",
   "execution_count": 9,
   "id": "1ced8c5c",
   "metadata": {},
   "outputs": [
    {
     "data": {
      "text/plain": [
       "'lo, world!'"
      ]
     },
     "execution_count": 9,
     "metadata": {},
     "output_type": "execute_result"
    }
   ],
   "source": [
    "'Hello, world!'[3:]"
   ]
  },
  {
   "cell_type": "markdown",
   "id": "cd45f26b",
   "metadata": {},
   "source": [
    "### 7. What are the values of the following expressions?\n",
    "'Hello'.upper()\n",
    "\n",
    "'Hello'.upper().isupper()\n",
    "\n",
    "'Hello'.upper().lower() "
   ]
  },
  {
   "cell_type": "code",
   "execution_count": 11,
   "id": "e9680ea5",
   "metadata": {},
   "outputs": [
    {
     "data": {
      "text/plain": [
       "'HELLO'"
      ]
     },
     "execution_count": 11,
     "metadata": {},
     "output_type": "execute_result"
    }
   ],
   "source": [
    "'Hello'.upper()"
   ]
  },
  {
   "cell_type": "code",
   "execution_count": 12,
   "id": "79cc4095",
   "metadata": {},
   "outputs": [
    {
     "data": {
      "text/plain": [
       "True"
      ]
     },
     "execution_count": 12,
     "metadata": {},
     "output_type": "execute_result"
    }
   ],
   "source": [
    "'Hello'.upper().isupper()"
   ]
  },
  {
   "cell_type": "code",
   "execution_count": 13,
   "id": "072e5f64",
   "metadata": {},
   "outputs": [
    {
     "data": {
      "text/plain": [
       "'hello'"
      ]
     },
     "execution_count": 13,
     "metadata": {},
     "output_type": "execute_result"
    }
   ],
   "source": [
    "'Hello'.upper().lower() "
   ]
  },
  {
   "cell_type": "markdown",
   "id": "05383a28",
   "metadata": {},
   "source": [
    "### 8. What are the values of the following expressions?\n",
    "'Remember, remember, the fifth of July.'.split()\n",
    "\n",
    "'-'.join('There can only one.'.split()) "
   ]
  },
  {
   "cell_type": "code",
   "execution_count": 15,
   "id": "ca49f0ea",
   "metadata": {},
   "outputs": [
    {
     "data": {
      "text/plain": [
       "['Remember,', 'remember,', 'the', 'fifth', 'of', 'July.']"
      ]
     },
     "execution_count": 15,
     "metadata": {},
     "output_type": "execute_result"
    }
   ],
   "source": [
    "'Remember, remember, the fifth of July.'.split()  #splits with space and returns list of words"
   ]
  },
  {
   "cell_type": "code",
   "execution_count": 17,
   "id": "c28bace4",
   "metadata": {},
   "outputs": [
    {
     "data": {
      "text/plain": [
       "'There-can-only-one.'"
      ]
     },
     "execution_count": 17,
     "metadata": {},
     "output_type": "execute_result"
    }
   ],
   "source": [
    "'-'.join('There can only one.'.split()) # splits with space and join with '-'"
   ]
  },
  {
   "cell_type": "markdown",
   "id": "b93de354",
   "metadata": {},
   "source": [
    "### 9. What are the methods for right-justifying, left-justifying, and centering a string?"
   ]
  },
  {
   "cell_type": "markdown",
   "id": "bb36ea8c",
   "metadata": {},
   "source": [
    "The following methods are used for justifying strings\n",
    "- ljust()\n",
    "- rjust()\n",
    "- center()"
   ]
  },
  {
   "cell_type": "code",
   "execution_count": 19,
   "id": "66bfcd8a",
   "metadata": {},
   "outputs": [
    {
     "data": {
      "text/plain": [
       "'Shubham---'"
      ]
     },
     "execution_count": 19,
     "metadata": {},
     "output_type": "execute_result"
    }
   ],
   "source": [
    "# left justified\n",
    "s=\"Shubham\"\n",
    "s.ljust(10,\"-\")"
   ]
  },
  {
   "cell_type": "code",
   "execution_count": 20,
   "id": "385e62fd",
   "metadata": {},
   "outputs": [
    {
     "data": {
      "text/plain": [
       "'*************Shubham'"
      ]
     },
     "execution_count": 20,
     "metadata": {},
     "output_type": "execute_result"
    }
   ],
   "source": [
    "# right justified\n",
    "s=\"Shubham\"\n",
    "s.rjust(20,'*')"
   ]
  },
  {
   "cell_type": "code",
   "execution_count": 21,
   "id": "d170e31b",
   "metadata": {},
   "outputs": [
    {
     "data": {
      "text/plain": [
       "'**************How are you***************'"
      ]
     },
     "execution_count": 21,
     "metadata": {},
     "output_type": "execute_result"
    }
   ],
   "source": [
    "# center justified\n",
    "s =\"How are you\"\n",
    "s.center(40,'*')"
   ]
  },
  {
   "cell_type": "markdown",
   "id": "f93b3c3a",
   "metadata": {},
   "source": [
    "### 10. What is the best way to remove whitespace characters from the start or end?\n",
    "- lstrip() \n",
    "- rstrip()\n",
    "\n",
    "\n"
   ]
  },
  {
   "cell_type": "code",
   "execution_count": 24,
   "id": "8059051d",
   "metadata": {},
   "outputs": [
    {
     "data": {
      "text/plain": [
       "'I am using python  '"
      ]
     },
     "execution_count": 24,
     "metadata": {},
     "output_type": "execute_result"
    }
   ],
   "source": [
    "s =\"  I am using python  \"\n",
    "s.lstrip() #removes white spaces from left of the string"
   ]
  },
  {
   "cell_type": "code",
   "execution_count": 27,
   "id": "d835ef0c",
   "metadata": {},
   "outputs": [
    {
     "data": {
      "text/plain": [
       "'  I am using python'"
      ]
     },
     "execution_count": 27,
     "metadata": {},
     "output_type": "execute_result"
    }
   ],
   "source": [
    "s =\"  I am using python  \"\n",
    "s.rstrip()#removes whitespaces from right of the string"
   ]
  },
  {
   "cell_type": "code",
   "execution_count": null,
   "id": "518d2d4d",
   "metadata": {},
   "outputs": [],
   "source": []
  }
 ],
 "metadata": {
  "kernelspec": {
   "display_name": "Python 3 (ipykernel)",
   "language": "python",
   "name": "python3"
  },
  "language_info": {
   "codemirror_mode": {
    "name": "ipython",
    "version": 3
   },
   "file_extension": ".py",
   "mimetype": "text/x-python",
   "name": "python",
   "nbconvert_exporter": "python",
   "pygments_lexer": "ipython3",
   "version": "3.9.7"
  }
 },
 "nbformat": 4,
 "nbformat_minor": 5
}
