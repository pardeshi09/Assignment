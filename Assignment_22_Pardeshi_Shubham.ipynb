{
 "cells": [
  {
   "cell_type": "markdown",
   "id": "4c599929",
   "metadata": {},
   "source": [
    "### 1. What is the result of the code, and explain?\n"
   ]
  },
  {
   "cell_type": "markdown",
   "id": "fde700e0",
   "metadata": {},
   "source": [
    "X = 'iNeuron'\n",
    "def func():\n",
    "    print(X)\n",
    "func()\n",
    "\n",
    "solution : 'iNeuron'\n",
    "Explamation:\n",
    "The global variables are accessible in side the functions in python. But we can not access function variable out side \n",
    "function. \n",
    "Since x is golbal variable we are able to print it in side the function\n"
   ]
  },
  {
   "cell_type": "code",
   "execution_count": 1,
   "id": "b302a5ae",
   "metadata": {},
   "outputs": [
    {
     "name": "stdout",
     "output_type": "stream",
     "text": [
      "iNeuron\n"
     ]
    }
   ],
   "source": [
    "X = 'iNeuron'\n",
    "def func():\n",
    "    print(X)\n",
    "func()"
   ]
  },
  {
   "cell_type": "markdown",
   "id": "cae3d8fa",
   "metadata": {},
   "source": [
    "### 2. What is the result of the code, and explain?\n"
   ]
  },
  {
   "cell_type": "markdown",
   "id": "3a48162a",
   "metadata": {},
   "source": [
    "X = 'iNeuron'\n",
    "def func():\n",
    "    X = 'NI!'\n",
    "\n",
    "func()\n",
    "print(X)\n",
    "\n",
    "\n",
    "solution: iNeuron\n",
    "Explantion:\n",
    "The global variables are access in side the functions in python. But we can not access function variable out side \n",
    "function. \n",
    "Since x is golbal variable we are able to print it out side of the function\n"
   ]
  },
  {
   "cell_type": "code",
   "execution_count": 2,
   "id": "fb337a02",
   "metadata": {},
   "outputs": [
    {
     "name": "stdout",
     "output_type": "stream",
     "text": [
      "iNeuron\n"
     ]
    }
   ],
   "source": [
    "X = 'iNeuron'\n",
    "def func():\n",
    "    X = 'NI!'\n",
    "\n",
    "func()\n",
    "print(X)"
   ]
  },
  {
   "cell_type": "markdown",
   "id": "51498ab4",
   "metadata": {},
   "source": [
    "### 3. What does this code print, and why?\n"
   ]
  },
  {
   "cell_type": "code",
   "execution_count": 7,
   "id": "2b2993bc",
   "metadata": {},
   "outputs": [
    {
     "name": "stdout",
     "output_type": "stream",
     "text": [
      "NI!\n",
      "iNeuron\n"
     ]
    }
   ],
   "source": [
    "X = 'iNeuron'\n",
    "def func():\n",
    "    X = 'NI!'\n",
    "    print(X)\n",
    "\n",
    "func()\n",
    "print(X)"
   ]
  },
  {
   "cell_type": "markdown",
   "id": "cb2d2b8a",
   "metadata": {},
   "source": [
    "Since,The global variables are access in side the functions in python. But we can not access function variable out side \n",
    "function. X is updated with 'NI' which is local to function and its immutable. its name space is with in the function"
   ]
  },
  {
   "cell_type": "markdown",
   "id": "1436afb2",
   "metadata": {},
   "source": [
    "### 4. What output does this code produce? Why?\n"
   ]
  },
  {
   "cell_type": "code",
   "execution_count": 4,
   "id": "3c2c9969",
   "metadata": {},
   "outputs": [
    {
     "name": "stdout",
     "output_type": "stream",
     "text": [
      "NI!\n",
      "NI!\n"
     ]
    }
   ],
   "source": [
    "X = 'iNeuron'\n",
    "def func():\n",
    "    global X\n",
    "    X = 'NI!'\n",
    "    print(X)\n",
    "\n",
    "func()\n",
    "print(X)"
   ]
  },
  {
   "cell_type": "markdown",
   "id": "4ba1800a",
   "metadata": {},
   "source": [
    "Since the X in side function is made Global, it will be accesible out side of the function too. now X will have new value."
   ]
  },
  {
   "cell_type": "markdown",
   "id": "2263da24",
   "metadata": {},
   "source": [
    "### 5. What about this code—what’s the output, and why?\n"
   ]
  },
  {
   "cell_type": "code",
   "execution_count": 5,
   "id": "e209e7b2",
   "metadata": {},
   "outputs": [
    {
     "name": "stdout",
     "output_type": "stream",
     "text": [
      "iNeuron\n"
     ]
    },
    {
     "data": {
      "text/plain": [
       "'iNeuron'"
      ]
     },
     "execution_count": 5,
     "metadata": {},
     "output_type": "execute_result"
    }
   ],
   "source": [
    "X = 'iNeuron'\n",
    "def func():\n",
    "    X = 'NI'\n",
    "def nested():\n",
    "    print(X)\n",
    "\n",
    "nested()\n",
    "func()\n",
    "X"
   ]
  },
  {
   "cell_type": "markdown",
   "id": "25548024",
   "metadata": {},
   "source": [
    "\n",
    "Soltuion:\n",
    "the nested() function will print 'iNeuron', Then func() does not display anything, and x ='NI' is not accessible out \n",
    "side the function.\n",
    "The Solution : 'iNeuron'"
   ]
  },
  {
   "cell_type": "markdown",
   "id": "23db4d98",
   "metadata": {},
   "source": [
    "### 6. How about this code: what is its output in Python 3, and explain?\n"
   ]
  },
  {
   "cell_type": "code",
   "execution_count": 6,
   "id": "163a92b5",
   "metadata": {},
   "outputs": [
    {
     "name": "stdout",
     "output_type": "stream",
     "text": [
      "spam\n"
     ]
    }
   ],
   "source": [
    "X = 'kkl'\n",
    "def func():\n",
    "    X = 'NI'\n",
    "    def nested():\n",
    "        nonlocal X\n",
    "        X = 'spam'\n",
    "    nested()\n",
    "    print(X)\n",
    "\n",
    "func()"
   ]
  },
  {
   "cell_type": "markdown",
   "id": "adeec072",
   "metadata": {},
   "source": [
    "Soltion:spam\n",
    "\n",
    "Since, Nonlocal variables are used in nested functions whose local scope is not defined. \n",
    "This means that the variable can be neither in the local nor the global scope. it print the updated value from nested \n",
    "function\n"
   ]
  }
 ],
 "metadata": {
  "kernelspec": {
   "display_name": "Python 3 (ipykernel)",
   "language": "python",
   "name": "python3"
  },
  "language_info": {
   "codemirror_mode": {
    "name": "ipython",
    "version": 3
   },
   "file_extension": ".py",
   "mimetype": "text/x-python",
   "name": "python",
   "nbconvert_exporter": "python",
   "pygments_lexer": "ipython3",
   "version": "3.9.7"
  }
 },
 "nbformat": 4,
 "nbformat_minor": 5
}
