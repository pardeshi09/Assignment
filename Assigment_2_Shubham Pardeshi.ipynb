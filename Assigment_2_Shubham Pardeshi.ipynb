{
 "cells": [
  {
   "cell_type": "raw",
   "id": "c137b917",
   "metadata": {},
   "source": [
    "1.What are the two values of the Boolean data type? How do you write them?\n",
    "\n",
    "\n",
    "0 and 1 are the two values of the Boolean data type.\n",
    "For 0 we have False and for True we have 1."
   ]
  },
  {
   "cell_type": "raw",
   "id": "f3b174c6",
   "metadata": {},
   "source": [
    "2. What are the three different types of Boolean operators?\n",
    "\n",
    "Bollean operations are simple arithmetic of True and False values.These values can be manipulated by the use of Boolean operators which include AND,OR,and NOT.\n"
   ]
  },
  {
   "cell_type": "raw",
   "id": "a103f9cb",
   "metadata": {},
   "source": [
    "3. Make a list of each Boolean operator's truth tables .\n",
    "\n",
    "    A     B   A and B   A or C  Not A\n",
    "  True  True   True      True   False\n",
    "  True  False  False     True   True\n",
    "  False True   False     True\n",
    "  False False  False     False"
   ]
  },
  {
   "cell_type": "raw",
   "id": "7a794fd6",
   "metadata": {},
   "source": [
    "4. What are the values of the following expressions?\n",
    "(5 > 4) and (3 == 5)\n",
    "output: False\n",
    "\n",
    "not (5 > 4)\n",
    "output:False\n",
    "\n",
    "(5 > 4) or (3 == 5)\n",
    "output:True\n",
    "\n",
    "not ((5 > 4) or (3 == 5))\n",
    "output:False\n",
    "\n",
    "(True and True) and (True == False)\n",
    "output:False\n",
    "\n",
    "(not False) or (not True)\n",
    "output:True\n"
   ]
  },
  {
   "cell_type": "raw",
   "id": "9a1c56ae",
   "metadata": {},
   "source": [
    "5. What are the six comparison operators?\n",
    "\n",
    "Operator\tName\t                  Example\t\n",
    " ==\t       Equal\t                  x == y\t\n",
    " !=\t       Not equal\t              x != y\t\n",
    " >\t       Greater than               x > y\t\n",
    " <\t       Less than\t              x < y\t\n",
    " >=\t       Greater than or equal to\t  x >= y\t\n",
    " <=\t       Less than or equal to\t  x <= y"
   ]
  },
  {
   "cell_type": "raw",
   "id": "ca193223",
   "metadata": {},
   "source": [
    "6. How do you tell the difference between the equal to and assignment operators?Describe a condition and when you would use one.\n",
    "\n",
    "=,is an Assignment operator and is used to assign the value on the right to the variable on the left.\n",
    "\n",
    "for eg.\n",
    "a = 10;\n",
    "b = 20;\n",
    "ch = 'y';\n",
    "\n",
    "==,is an relation/comparison operator used to compare value of both left and right operants.\n",
    "\n",
    "for eg:\n",
    "5==5\n",
    "\n",
    "This will return true.\n",
    "\n",
    "\n"
   ]
  },
  {
   "cell_type": "raw",
   "id": "feb5cb6c",
   "metadata": {},
   "source": [
    "7. Identify the three blocks in this code:\n",
    "\n",
    "spam = 0\n",
    "if spam == 10:   #block number 1 \n",
    "print('eggs')  \n",
    "if spam > 5:     #block number 2\n",
    "print('bacon')  \n",
    "else:            #block number 3\n",
    "print('ham')    \n",
    "print('spam')\n",
    "print('spam')\n"
   ]
  },
  {
   "cell_type": "code",
   "execution_count": 7,
   "id": "5957ba55",
   "metadata": {},
   "outputs": [
    {
     "name": "stdout",
     "output_type": "stream",
     "text": [
      "ham\n",
      "spam\n",
      "spam\n"
     ]
    }
   ],
   "source": [
    "#code with proper intendation\n",
    "spam = 0\n",
    "if spam == 10:\n",
    "    print('eggs')\n",
    "if spam > 5:\n",
    "    print('bacon')\n",
    "else:\n",
    "    print('ham')\n",
    "    print('spam')\n",
    "    print('spam')\n"
   ]
  },
  {
   "cell_type": "markdown",
   "id": "033509cb",
   "metadata": {},
   "source": [
    "#### 8. Write code that prints Hello if 1 is stored in spam, prints Howdy if 2 is stored in spam, and prints Greetings! if anything else is stored in spam.\n",
    "\n"
   ]
  },
  {
   "cell_type": "code",
   "execution_count": 14,
   "id": "3c1a91f1",
   "metadata": {},
   "outputs": [
    {
     "name": "stdout",
     "output_type": "stream",
     "text": [
      "3\n",
      "Greetings!\n"
     ]
    }
   ],
   "source": [
    "spam=int(input())\n",
    "\n",
    "if spam==1:\n",
    "    print('Hello')\n",
    "    \n",
    "elif spam==2:\n",
    "    print('Howdy')\n",
    "    \n",
    "else:\n",
    "    print('Greetings!')"
   ]
  },
  {
   "cell_type": "raw",
   "id": "6d183a41",
   "metadata": {},
   "source": [
    "9.If your programme is stuck in an endless loop, what keys you’ll press?\n",
    "\n",
    "I will press the 'intrrupt the kernel' key exactly next to 'run' key in jupyter notebook. \n"
   ]
  },
  {
   "cell_type": "raw",
   "id": "98a7c47c",
   "metadata": {},
   "source": [
    "10. How can you tell the difference between break and continue?\n",
    "\n",
    "break statement:\n",
    "The break statement is used to terminate the loop or statement in which it is present. After that, the control will pass to the statements that are present after the break statement, if available. If the break statement is present in the nested loop, then it terminates only those loops which contains break statement.\n",
    "\n",
    "for eg:\n",
    "\n",
    "list = ['Shubham', 'Ajinkya', 'Manthan', 'Yadhu', 'Aatish', 'Kunal']\n",
    "i = 0\n",
    "\n",
    "while True:\n",
    "    print(list[i])\n",
    "    if list[i] == 'Kunal':\n",
    "        print('Found the name Kunal')\n",
    "        break\n",
    "        print('After break statement')\n",
    "    i += 1\n",
    "\n",
    "print('Exit while loop')\n",
    "\n",
    "output:\n",
    "Shubham\n",
    "Ajinkya\n",
    "Manthan\n",
    "Yadhu\n",
    "Aatish\n",
    "Kunal\n",
    "Found the name Kunal\n",
    "Exit while loop\n",
    "\n",
    "\n",
    "\n",
    "continue statement:\n",
    "When the continue statement is executed in the loop structure, it does not exit the loop structure, but immediately ends the current loop and starts the next loop again, that is, it skips all statements in the loop body after the continue statement and continues the next loop.\n",
    "\n",
    "eg:\n",
    "i = 0\n",
    "while i <= 10:    \n",
    "    if i == 7:\n",
    "        i += 1\n",
    "        continue  \n",
    "    print(\"The Number is  :\" , i)\n",
    "    i += 1\n",
    "    \n",
    "output:\n",
    "The Number is  : 0\n",
    "The Number is  : 1\n",
    "The Number is  : 2\n",
    "The Number is  : 3\n",
    "The Number is  : 4\n",
    "The Number is  : 5\n",
    "The Number is  : 6\n",
    "The Number is  : 8\n",
    "The Number is  : 9\n",
    "The Number is  : 10\n",
    "\n",
    "The coclusion is that the main difference between continue and break statement is that continue statement is opposite to that of break statement, instead of terminating the loop, it forces to execute the next iteration of the loop. As the name suggests the continue statement forces the loop to continue or execute the next iteration.\n",
    "\n",
    "\n",
    "\n"
   ]
  },
  {
   "cell_type": "raw",
   "id": "9746d9a8",
   "metadata": {},
   "source": [
    "11. In a for loop, what is the difference between range(10), range(0, 10), and range(0, 10, 1)?\n",
    "There is no key difference between  range(10), range(0, 10), and range(0, 10, 1).\n",
    "All of these commands throws same output i.e:\n",
    "for i in range(10):\n",
    "    print(i)\n",
    "   \n",
    "output:\n",
    "0\n",
    "1\n",
    "2\n",
    "3\n",
    "4\n",
    "5\n",
    "6\n",
    "7\n",
    "8\n",
    "9\n"
   ]
  },
  {
   "cell_type": "raw",
   "id": "51d15061",
   "metadata": {},
   "source": [
    "12. Write a short program that prints the numbers 1 to 10 using a for loop. Then write an equivalent program that prints the numbers 1 to 10 using a while loop.\n",
    "\n",
    "for i in range(1,11):\n",
    "    print(i)\n",
    "    \n",
    "output:\n",
    "1\n",
    "2\n",
    "3\n",
    "4\n",
    "5\n",
    "6\n",
    "7\n",
    "8\n",
    "9\n",
    "10\n",
    "\n",
    "\n",
    "i=1\n",
    "while i<11:\n",
    "    print(i)\n",
    "    i=i+1\n",
    "    \n",
    "output:\n",
    "1\n",
    "2\n",
    "3\n",
    "4\n",
    "5\n",
    "6\n",
    "7\n",
    "8\n",
    "9\n",
    "10\n"
   ]
  },
  {
   "cell_type": "raw",
   "id": "bb96166d",
   "metadata": {},
   "source": [
    "13.If you had a function named bacon() inside a module named spam, how would you call it after importing spam?\n",
    "\n",
    "This function can be called with spam.bacon().  as folows:\n",
    "    import spam\n",
    "    spam.bacon()"
   ]
  }
 ],
 "metadata": {
  "kernelspec": {
   "display_name": "Python 3 (ipykernel)",
   "language": "python",
   "name": "python3"
  },
  "language_info": {
   "codemirror_mode": {
    "name": "ipython",
    "version": 3
   },
   "file_extension": ".py",
   "mimetype": "text/x-python",
   "name": "python",
   "nbconvert_exporter": "python",
   "pygments_lexer": "ipython3",
   "version": "3.9.7"
  }
 },
 "nbformat": 4,
 "nbformat_minor": 5
}
