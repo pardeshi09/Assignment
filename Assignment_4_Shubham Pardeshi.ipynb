{
 "cells": [
  {
   "cell_type": "markdown",
   "id": "1400fa63",
   "metadata": {},
   "source": [
    "### 1. What exactly is [ ]?\n",
    "\n",
    "[ ] is a emplty list, like s =[ ]"
   ]
  },
  {
   "cell_type": "markdown",
   "id": "cc0e0cab",
   "metadata": {},
   "source": [
    "### 2. In a list of values stored in a variable called spam, how would you assign the value hello' as the third value? (Assume [2, 4, 6, 8, 10] are in spam.)"
   ]
  },
  {
   "cell_type": "code",
   "execution_count": 3,
   "id": "88eae735",
   "metadata": {},
   "outputs": [
    {
     "data": {
      "text/plain": [
       "[2, 4, 'hello', 8, 10]"
      ]
     },
     "execution_count": 3,
     "metadata": {},
     "output_type": "execute_result"
    }
   ],
   "source": [
    "\"\"\"Following code will provide an idea that how to change/assign a value to a third value of provided list \"\"\"\n",
    "spam= [2,4,6,8,10]\n",
    "spam[2]= 'hello'\n",
    "spam"
   ]
  },
  {
   "cell_type": "code",
   "execution_count": 7,
   "id": "68666c57",
   "metadata": {},
   "outputs": [
    {
     "data": {
      "text/plain": [
       "[2, 4, 'hello', 6, 8, 10]"
      ]
     },
     "execution_count": 7,
     "metadata": {},
     "output_type": "execute_result"
    }
   ],
   "source": [
    "#if one has to insert a value at 3rd index they can use insert() function also\n",
    "spam=[2,4,6,8,10]\n",
    "spam.insert(2,'hello')\n",
    "spam"
   ]
  },
  {
   "cell_type": "markdown",
   "id": "aeb5ee63",
   "metadata": {},
   "source": [
    "### Lets pretend the spam includes the list ['a', 'b','c','d'] for the next three queries.\n",
    "### 3. What is the value of spam[int(int(3 * 2) / 11)]?"
   ]
  },
  {
   "cell_type": "code",
   "execution_count": 14,
   "id": "5dbd6354",
   "metadata": {},
   "outputs": [
    {
     "data": {
      "text/plain": [
       "'d'"
      ]
     },
     "execution_count": 14,
     "metadata": {},
     "output_type": "execute_result"
    }
   ],
   "source": [
    "spam = ['a', 'b','c','d']\n",
    "spam[int(int('3' * 2) / 11)]   #since '3'*2=33 therefore spam[int(33/11)]=spam[3] and it will print 3rd index of the string"
   ]
  },
  {
   "cell_type": "markdown",
   "id": "aba55600",
   "metadata": {},
   "source": [
    "### 4. What is the value of spam[-1]?\\\n"
   ]
  },
  {
   "cell_type": "code",
   "execution_count": 15,
   "id": "8188da7e",
   "metadata": {},
   "outputs": [
    {
     "data": {
      "text/plain": [
       "'d'"
      ]
     },
     "execution_count": 15,
     "metadata": {},
     "output_type": "execute_result"
    }
   ],
   "source": [
    "spam = ['a', 'b','c','d']\n",
    "spam[-1] # negative index "
   ]
  },
  {
   "cell_type": "markdown",
   "id": "c37008f9",
   "metadata": {},
   "source": [
    "### 5. What is the value of spam[:2]?"
   ]
  },
  {
   "cell_type": "code",
   "execution_count": 16,
   "id": "b5f866c5",
   "metadata": {},
   "outputs": [
    {
     "data": {
      "text/plain": [
       "['a', 'b']"
      ]
     },
     "execution_count": 16,
     "metadata": {},
     "output_type": "execute_result"
    }
   ],
   "source": [
    "spam[:2]"
   ]
  },
  {
   "cell_type": "markdown",
   "id": "0e42ba64",
   "metadata": {},
   "source": [
    "### Let's pretend bacon has the list [3.14, 'cat' 11, 'cat' True] for the next three questions."
   ]
  },
  {
   "cell_type": "markdown",
   "id": "2423a904",
   "metadata": {},
   "source": [
    "### 6. What is the value of bacon.index('cat')?"
   ]
  },
  {
   "cell_type": "code",
   "execution_count": 17,
   "id": "e05514c0",
   "metadata": {},
   "outputs": [
    {
     "data": {
      "text/plain": [
       "1"
      ]
     },
     "execution_count": 17,
     "metadata": {},
     "output_type": "execute_result"
    }
   ],
   "source": [
    "bacon=[3.14, 'cat', 11, 'cat' ,True]\n",
    "bacon.index('cat') #it will return the 1st occurance of 'cat'"
   ]
  },
  {
   "cell_type": "markdown",
   "id": "439e47c5",
   "metadata": {},
   "source": [
    "### 7. How does bacon.append(99) change the look of the list value in bacon?"
   ]
  },
  {
   "cell_type": "code",
   "execution_count": 18,
   "id": "11aabf55",
   "metadata": {},
   "outputs": [
    {
     "data": {
      "text/plain": [
       "[3.14, 'cat', 11, 'cat', True, 99]"
      ]
     },
     "execution_count": 18,
     "metadata": {},
     "output_type": "execute_result"
    }
   ],
   "source": [
    "bacon=[3.14, 'cat', 11, 'cat' ,True]\n",
    "bacon.append(99) #append function adds the items at the end of the list\n",
    "bacon"
   ]
  },
  {
   "cell_type": "markdown",
   "id": "0b13d387",
   "metadata": {},
   "source": [
    "### 8. How does bacon.remove('cat') change the look of the list in bacon?"
   ]
  },
  {
   "cell_type": "code",
   "execution_count": 19,
   "id": "c6d2cd71",
   "metadata": {},
   "outputs": [
    {
     "data": {
      "text/plain": [
       "[3.14, 11, 'cat', True]"
      ]
     },
     "execution_count": 19,
     "metadata": {},
     "output_type": "execute_result"
    }
   ],
   "source": [
    "bacon=[3.14, 'cat', 11, 'cat' ,True]\n",
    "bacon.remove('cat') #removes the 1st occured 'cat'\n",
    "bacon"
   ]
  },
  {
   "cell_type": "markdown",
   "id": "4f5cb832",
   "metadata": {},
   "source": [
    "### 9. What are the list concatenation and list replication operators?"
   ]
  },
  {
   "cell_type": "markdown",
   "id": "fe425446",
   "metadata": {},
   "source": [
    "### + : list concatenation operator\n",
    "### * : list replication operators    "
   ]
  },
  {
   "cell_type": "code",
   "execution_count": 21,
   "id": "926d2c82",
   "metadata": {},
   "outputs": [
    {
     "data": {
      "text/plain": [
       "[2, 4, 6, 8]"
      ]
     },
     "execution_count": 21,
     "metadata": {},
     "output_type": "execute_result"
    }
   ],
   "source": [
    "s1=[2,4]\n",
    "s2=[6,8]\n",
    "s1+s2 # list conctenation"
   ]
  },
  {
   "cell_type": "code",
   "execution_count": 22,
   "id": "e87f18d9",
   "metadata": {},
   "outputs": [
    {
     "data": {
      "text/plain": [
       "[1, 3, 1, 3, 1, 3, 1, 3, 1, 3]"
      ]
     },
     "execution_count": 22,
     "metadata": {},
     "output_type": "execute_result"
    }
   ],
   "source": [
    "s3=[1,3]\n",
    "s3*5 #list replication"
   ]
  },
  {
   "cell_type": "markdown",
   "id": "4dd2e12f",
   "metadata": {},
   "source": [
    "### 10. What is difference between the list methods append() and insert()?"
   ]
  },
  {
   "cell_type": "markdown",
   "id": "2455e18d",
   "metadata": {},
   "source": [
    "append(): append function adds items at the end of the list\n",
    "\n",
    "insert(): insert function comes with a feature in which one can insert items before any of the index"
   ]
  },
  {
   "cell_type": "code",
   "execution_count": 23,
   "id": "b8c1dc09",
   "metadata": {},
   "outputs": [
    {
     "data": {
      "text/plain": [
       "[3.14, 'cat', 11, 'cat', True, 69]"
      ]
     },
     "execution_count": 23,
     "metadata": {},
     "output_type": "execute_result"
    }
   ],
   "source": [
    "bacon=[3.14, 'cat', 11, 'cat' ,True]\n",
    "bacon.append(69) #this will add 69 at the end of the list\n",
    "bacon"
   ]
  },
  {
   "cell_type": "code",
   "execution_count": 27,
   "id": "a2c5b42e",
   "metadata": {},
   "outputs": [
    {
     "data": {
      "text/plain": [
       "[3.14, 'cat', 11, 'shubham', 'cat', True]"
      ]
     },
     "execution_count": 27,
     "metadata": {},
     "output_type": "execute_result"
    }
   ],
   "source": [
    "bacon=[3.14, 'cat', 11, 'cat' ,True]\n",
    "bacon.insert(3,'shubham') #this will insert 'shubham' at 3rd index\n",
    "bacon"
   ]
  },
  {
   "cell_type": "markdown",
   "id": "b10d8b3f",
   "metadata": {},
   "source": [
    "### 11. What are the two methods for removing items from a list?\n"
   ]
  },
  {
   "cell_type": "markdown",
   "id": "d5fc9510",
   "metadata": {},
   "source": [
    "remove(items): removes the 1st occured item from the list\n",
    "    \n",
    "pop(): removes the last item of a list"
   ]
  },
  {
   "cell_type": "code",
   "execution_count": 28,
   "id": "ec47670a",
   "metadata": {},
   "outputs": [
    {
     "data": {
      "text/plain": [
       "[3.14, 11, 'cat', True]"
      ]
     },
     "execution_count": 28,
     "metadata": {},
     "output_type": "execute_result"
    }
   ],
   "source": [
    "bacon=[3.14, 'cat', 11, 'cat' ,True]\n",
    "bacon.remove('cat') #it will remove the specified item i.e 'cat' from the list\n",
    "bacon\n"
   ]
  },
  {
   "cell_type": "code",
   "execution_count": 30,
   "id": "7b400ddd",
   "metadata": {},
   "outputs": [
    {
     "data": {
      "text/plain": [
       "[3.14, 'cat', 11, 'cat']"
      ]
     },
     "execution_count": 30,
     "metadata": {},
     "output_type": "execute_result"
    }
   ],
   "source": [
    "bacon=[3.14, 'cat', 11, 'cat' ,True]\n",
    "bacon.pop() #it will remove the last item i.e True from the list\n",
    "bacon"
   ]
  },
  {
   "cell_type": "markdown",
   "id": "02c76120",
   "metadata": {},
   "source": [
    "### 12. Describe how list values and string values are identical."
   ]
  },
  {
   "cell_type": "markdown",
   "id": "4e755f8b",
   "metadata": {},
   "source": [
    "- Both lists and strings can be passed to len()\n",
    "- Have indexes and slices\n",
    "- Can be used in for loops\n",
    "- Can be concatenated or replicated\n",
    "- Can be used with the in and not in operators"
   ]
  },
  {
   "cell_type": "markdown",
   "id": "ccf2c00e",
   "metadata": {},
   "source": [
    "### 13. What's the difference between tuples and lists?"
   ]
  },
  {
   "cell_type": "markdown",
   "id": "dcc82d74",
   "metadata": {},
   "source": [
    "- Lists :are mutable - they can have values added, removed, or changed. \n",
    "\n",
    "  lists use the square brackets, [ and ]\n",
    "\n",
    "\n",
    "- Tuples :are immutable: they cannot be changed at all. \n",
    "\n",
    "  Tuples are written using parentheses, ( and ) while "
   ]
  },
  {
   "cell_type": "markdown",
   "id": "a4b906dd",
   "metadata": {},
   "source": [
    "### 14. How do you type a tuple value that only contains the integer 42?"
   ]
  },
  {
   "cell_type": "code",
   "execution_count": 36,
   "id": "2c0feb9d",
   "metadata": {},
   "outputs": [
    {
     "data": {
      "text/plain": [
       "(42,)"
      ]
     },
     "execution_count": 36,
     "metadata": {},
     "output_type": "execute_result"
    }
   ],
   "source": [
    "tuple_ = (42,)\n",
    "tuple_"
   ]
  },
  {
   "cell_type": "markdown",
   "id": "90414f57",
   "metadata": {},
   "source": [
    "### 15. How do you get a list value's tuple form? How do you get a tuple value's list form?"
   ]
  },
  {
   "cell_type": "code",
   "execution_count": 33,
   "id": "5d24838a",
   "metadata": {},
   "outputs": [
    {
     "data": {
      "text/plain": [
       "(23, 23, 16)"
      ]
     },
     "execution_count": 33,
     "metadata": {},
     "output_type": "execute_result"
    }
   ],
   "source": [
    "list_=[23,23,16]\n",
    "tup=tuple(list_)\n",
    "tup"
   ]
  },
  {
   "cell_type": "code",
   "execution_count": 34,
   "id": "1c79bc17",
   "metadata": {},
   "outputs": [
    {
     "data": {
      "text/plain": [
       "[23, 26, 16]"
      ]
     },
     "execution_count": 34,
     "metadata": {},
     "output_type": "execute_result"
    }
   ],
   "source": [
    "t1=(23,26,16)\n",
    "l1=list(t1)\n",
    "l1"
   ]
  },
  {
   "cell_type": "markdown",
   "id": "acaf266c",
   "metadata": {},
   "source": [
    "### 16. Variables that \"contain\" list values are not necessarily lists themselves. Instead, what do they contain?"
   ]
  },
  {
   "cell_type": "markdown",
   "id": "bdcfafad",
   "metadata": {},
   "source": [
    "They contain references to list values"
   ]
  },
  {
   "cell_type": "markdown",
   "id": "6383e03d",
   "metadata": {},
   "source": [
    "### 17. How do you distinguish between copy.copy() and copy.deepcopy()?"
   ]
  },
  {
   "cell_type": "markdown",
   "id": "45aa20aa",
   "metadata": {},
   "source": [
    "- The copy.copy() function will do a shallow copy of a list, \n",
    "- The copy.deepcopy() function will do a deep copy of a list. only copy.deepcopy() will duplicate any lists inside the \n",
    "  list"
   ]
  }
 ],
 "metadata": {
  "kernelspec": {
   "display_name": "Python 3 (ipykernel)",
   "language": "python",
   "name": "python3"
  },
  "language_info": {
   "codemirror_mode": {
    "name": "ipython",
    "version": 3
   },
   "file_extension": ".py",
   "mimetype": "text/x-python",
   "name": "python",
   "nbconvert_exporter": "python",
   "pygments_lexer": "ipython3",
   "version": "3.9.7"
  }
 },
 "nbformat": 4,
 "nbformat_minor": 5
}
