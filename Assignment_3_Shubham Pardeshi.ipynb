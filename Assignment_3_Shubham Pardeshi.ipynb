{
 "cells": [
  {
   "cell_type": "markdown",
   "id": "c0eb4abb",
   "metadata": {},
   "source": [
    "### 1. Why are functions advantageous to have in your programs?\n",
    "\n",
    "- One can achieve robustness and code reusibility.\n",
    "- Increases program readability and modularity\n",
    "- Reduces chances of error.\n",
    "- Modifying a program becomes easier by using function.\n",
    "     "
   ]
  },
  {
   "cell_type": "markdown",
   "id": "0438c827",
   "metadata": {},
   "source": [
    "### 2. When does the code in a function run: when it's specified or when it's called?\n",
    "\n",
    "- The code in a function executes when the function is called, not when the function is defined."
   ]
  },
  {
   "cell_type": "markdown",
   "id": "70e90025",
   "metadata": {},
   "source": [
    "### 3. What statement creates a function?\n",
    "- The statement to create a function is as follows:\n",
    "\n",
    "    def functionname():"
   ]
  },
  {
   "cell_type": "markdown",
   "id": "072627ad",
   "metadata": {},
   "source": [
    "### 4. What is the difference between a function and a function call?\n",
    "- A function is a block of code that does a particular operation and returns a result. It usually accepts inputs as \n",
    "  parameters and returns a result. The parameters are not mandatory. \n",
    "- A Function call is the code used to pass control to a function"
   ]
  },
  {
   "cell_type": "markdown",
   "id": "14b00c72",
   "metadata": {},
   "source": [
    "### 5. How many global scopes are there in a Python program? How many local scopes?\n",
    "\n",
    "- There is one global scope, and a local scope is created whenever a function is called"
   ]
  },
  {
   "cell_type": "markdown",
   "id": "509b6e44",
   "metadata": {},
   "source": [
    "### 6. What happens to variables in a local scope when the function call returns?\n",
    "\n",
    "- When a function returns, the local scope is destroyed, and all the variables in it are forgotten. we will not be able to access the out side the function"
   ]
  },
  {
   "cell_type": "markdown",
   "id": "285747e3",
   "metadata": {},
   "source": [
    "### 7. What is the concept of a return value? Is it possible to have a return value in an expression?\n",
    "- A return value is the value that a function call evaluates to. A return value can be used as part of an expression, Like any value"
   ]
  },
  {
   "cell_type": "markdown",
   "id": "e4814a1e",
   "metadata": {},
   "source": [
    "### 8.If a function does not have a return statement, what is the return value of a call to that function?\n",
    "- If there is no return statement for a function, its return value is None"
   ]
  },
  {
   "cell_type": "markdown",
   "id": "7ba3a199",
   "metadata": {},
   "source": [
    "### 9. How do you make a function variable refer to the global variable?\n",
    "- We can do this by  representing a variable by global keywaord in the body of a function Example :\n",
    "\n",
    "    global x"
   ]
  },
  {
   "cell_type": "markdown",
   "id": "fb6af632",
   "metadata": {},
   "source": [
    "### 10. What is the data type of None?\n",
    "- The data type of none is NoneType"
   ]
  },
  {
   "cell_type": "markdown",
   "id": "481a1df4",
   "metadata": {},
   "source": [
    "### 11. What does the sentence import areallyourpetsnamederic do?\n",
    "- after execueting import areallyyourpetsnameederic we will encounter an error i.e ModuleNotFoundError .\n",
    "  The reason behind encountering error is that there is no package named areallyourpetsnamederic stored in pythone module."
   ]
  },
  {
   "cell_type": "code",
   "execution_count": 3,
   "id": "eaec25f6",
   "metadata": {},
   "outputs": [
    {
     "ename": "ModuleNotFoundError",
     "evalue": "No module named 'areallyourpetsnamederic'",
     "output_type": "error",
     "traceback": [
      "\u001b[1;31m---------------------------------------------------------------------------\u001b[0m",
      "\u001b[1;31mModuleNotFoundError\u001b[0m                       Traceback (most recent call last)",
      "\u001b[1;32m~\\AppData\\Local\\Temp/ipykernel_10748/1212523305.py\u001b[0m in \u001b[0;36m<module>\u001b[1;34m\u001b[0m\n\u001b[1;32m----> 1\u001b[1;33m \u001b[1;32mimport\u001b[0m \u001b[0mareallyourpetsnamederic\u001b[0m\u001b[1;33m\u001b[0m\u001b[1;33m\u001b[0m\u001b[0m\n\u001b[0m",
      "\u001b[1;31mModuleNotFoundError\u001b[0m: No module named 'areallyourpetsnamederic'"
     ]
    }
   ],
   "source": [
    "import areallyourpetsnamederic "
   ]
  },
  {
   "cell_type": "markdown",
   "id": "905335a8",
   "metadata": {},
   "source": [
    "### 12. If you had a bacon() feature in a spam module, what would you call it after importing spam?\n",
    "- This function can be called with spam.bacon(). like below\n",
    "\n",
    "    import spam\n",
    "    \n",
    "    spam.bacon()"
   ]
  },
  {
   "cell_type": "markdown",
   "id": "e674485c",
   "metadata": {},
   "source": [
    "### 13. What can you do to save a programme from crashing if it encounters an error?\n",
    "- we can write lines of code in try block. This will not crash the programme. And in except block we can catch the \n",
    "exception"
   ]
  },
  {
   "cell_type": "markdown",
   "id": "d3d91f7e",
   "metadata": {},
   "source": [
    "### 14. What is the purpose of the try clause? What is the purpose of the except clause?\n",
    "- Try : The code that could potentially cause an error goes in the try clause.  \n",
    "  except : The code that executes if an error happens goes in the except clause, like print statments about exceptions,\n",
    "  loggin statements.\n",
    " "
   ]
  },
  {
   "cell_type": "code",
   "execution_count": null,
   "id": "90552e83",
   "metadata": {},
   "outputs": [],
   "source": []
  }
 ],
 "metadata": {
  "kernelspec": {
   "display_name": "Python 3 (ipykernel)",
   "language": "python",
   "name": "python3"
  },
  "language_info": {
   "codemirror_mode": {
    "name": "ipython",
    "version": 3
   },
   "file_extension": ".py",
   "mimetype": "text/x-python",
   "name": "python",
   "nbconvert_exporter": "python",
   "pygments_lexer": "ipython3",
   "version": "3.9.7"
  }
 },
 "nbformat": 4,
 "nbformat_minor": 5
}
