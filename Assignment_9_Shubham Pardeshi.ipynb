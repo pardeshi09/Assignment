{
 "cells": [
  {
   "cell_type": "markdown",
   "id": "fc22bafd",
   "metadata": {},
   "source": [
    "### 1. To what does a relative path refer?"
   ]
  },
  {
   "cell_type": "markdown",
   "id": "c4f35348",
   "metadata": {},
   "source": [
    "The relative path is the path of a file with respect to your current working directory (PWD)."
   ]
  },
  {
   "cell_type": "markdown",
   "id": "94a63a16",
   "metadata": {},
   "source": [
    "### 2. What does an absolute path start with your operating system?\n"
   ]
  },
  {
   "cell_type": "markdown",
   "id": "b2e5c84f",
   "metadata": {},
   "source": [
    "An absolute path contains the full set of directories from the root of the file system up to your target file or directory. An absolute path start with the root folder, such as / or C:."
   ]
  },
  {
   "cell_type": "markdown",
   "id": "b3e4568f",
   "metadata": {},
   "source": [
    "### 3. What do the functions os.getcwd() and os.chdir() do?\n"
   ]
  },
  {
   "cell_type": "markdown",
   "id": "0065bf8e",
   "metadata": {},
   "source": [
    "getcwd stands for \"get current working directory\". os.getcwd() returns the absolute path of the working directory where Python is currently running as a string str . chdir stands for \"change directory\". os.chdir() method in Python used to change the current working directory to specified path. It takes only a single argument as new directory path."
   ]
  },
  {
   "cell_type": "markdown",
   "id": "afefef96",
   "metadata": {},
   "source": [
    "### 4. What are the . and .. folders?\n"
   ]
  },
  {
   "cell_type": "markdown",
   "id": "0c447750",
   "metadata": {},
   "source": [
    "The . is the current directory, while .. signifies the parent directory."
   ]
  },
  {
   "cell_type": "markdown",
   "id": "7e64339d",
   "metadata": {},
   "source": [
    "### 5. In C:\\bacon\\eggs\\spam.txt, which part is the dir name, and which part is the base name?\n"
   ]
  },
  {
   "cell_type": "markdown",
   "id": "0600cbf1",
   "metadata": {},
   "source": [
    "The basename is the final rightmost segment of the file path . In the above path base name is spam.txt. os.path.basename() can be used to extract base name from the path. dir name is th folder name in which file exists. In the above path dir name is C:\\bacon\\eggs . os.path.dirname() can be used to extract dir name form path."
   ]
  },
  {
   "cell_type": "markdown",
   "id": "706d459d",
   "metadata": {},
   "source": [
    "### 6. What are the three “mode” arguments that can be passed to the open() function?"
   ]
  },
  {
   "cell_type": "markdown",
   "id": "c437de59",
   "metadata": {},
   "source": [
    "mode arguments that can be passed to open () function are: 'r' Open a file for reading. (default) 'w' Open a file for writing. Creates a new file if it does not exist or truncates the file if it exists. 'a' Open for appending at the end of the file without truncating it. Creates a new file if it does not exist. '+' Open a file for updating (reading and writing)"
   ]
  },
  {
   "cell_type": "markdown",
   "id": "662740f2",
   "metadata": {},
   "source": [
    "### 7. What happens if an existing file is opened in write mode?\n"
   ]
  },
  {
   "cell_type": "markdown",
   "id": "f1be7ae9",
   "metadata": {},
   "source": [
    "when a existing file is opened in write mode, contens which were previously present will be overwritten by new content passed."
   ]
  },
  {
   "cell_type": "markdown",
   "id": "a396ceb8",
   "metadata": {},
   "source": [
    "### 8. How do you tell the difference between read() and readlines()?\n"
   ]
  },
  {
   "cell_type": "markdown",
   "id": "729bd921",
   "metadata": {},
   "source": [
    "read() reads the entire contents of the file into a string. readline() just reads file till the next line."
   ]
  },
  {
   "cell_type": "markdown",
   "id": "28283e5d",
   "metadata": {},
   "source": [
    "### 9. What data structure does a shelf value resemble?\n"
   ]
  },
  {
   "cell_type": "markdown",
   "id": "ee39f8e1",
   "metadata": {},
   "source": [
    "A shelf value resembles a dictionary value; it has keys and values, along with keys() and values() methods that work similarly to the dictionary methods of the same names."
   ]
  }
 ],
 "metadata": {
  "kernelspec": {
   "display_name": "Python 3 (ipykernel)",
   "language": "python",
   "name": "python3"
  },
  "language_info": {
   "codemirror_mode": {
    "name": "ipython",
    "version": 3
   },
   "file_extension": ".py",
   "mimetype": "text/x-python",
   "name": "python",
   "nbconvert_exporter": "python",
   "pygments_lexer": "ipython3",
   "version": "3.9.7"
  }
 },
 "nbformat": 4,
 "nbformat_minor": 5
}
